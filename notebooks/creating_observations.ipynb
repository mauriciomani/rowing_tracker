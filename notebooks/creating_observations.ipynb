{
 "cells": [
  {
   "cell_type": "markdown",
   "id": "468a54b2-7025-40d1-a8e8-b67602224c40",
   "metadata": {},
   "source": [
    "# Creating training images\n",
    "This notebook creates training images from a video, by cutting into the back of the rower only, using the shoulders, hips and nose.\n",
    "Change the **images_per_frame** variable to reduce the amount of images created by the given video.\n",
    "Keep in mind you need to multiply the variables by the size of the video.\n",
    "\n",
    "## Images to train a bad back posture\n",
    "Images were extracted from youtube videos with screenshots on the back posture. Plus some mp4 videos, that mainly provide good posture, as mentioned, a lot of bad posture were extracted directly from youtube.\n",
    "\n",
    "## Train-test\n",
    "Currently we have a train and test folder inside img. Inside both folders we have **good** and **bad** folders, that include images for good and bad postures. Currently we have inbalanced image dataset.\n",
    "\n",
    "### What the notebooks does?\n",
    "The notebook creates images from videos, then you can decide wether that is a good posture or not."
   ]
  },
  {
   "cell_type": "code",
   "execution_count": null,
   "id": "f32d46c3-b885-4abb-a366-51def3cb9d51",
   "metadata": {},
   "outputs": [],
   "source": [
    "import cv2\n",
    "import mediapipe as mp\n",
    "import numpy as np\n",
    "import os\n",
    "mp_drawing = mp.solutions.drawing_utils\n",
    "# We want the pose estimation\n",
    "mp_pose = mp.solutions.pose"
   ]
  },
  {
   "cell_type": "code",
   "execution_count": null,
   "id": "65f6d514-2151-458a-87fa-0198a1f6f27c",
   "metadata": {},
   "outputs": [],
   "source": [
    "# Video\n",
    "cap = cv2.VideoCapture('../videos/rowing4.mp4')\n",
    "\n",
    "count = 0\n",
    "images_per_frame = 5\n",
    "with mp_pose.Pose(min_detection_confidence=0.5, min_tracking_confidence=0.5) as pose:  \n",
    "    while cap.isOpened():\n",
    "        ret, frame = cap.read()\n",
    "        \n",
    "        image = cv2.cvtColor(frame, cv2.COLOR_BGR2RGB)\n",
    "        image.flags.writeable = False\n",
    "        \n",
    "        results = pose.process(image)\n",
    "        \n",
    "        image.flags.writeable = True\n",
    "        image = cv2.cvtColor(image, cv2.COLOR_RGB2BGR)\n",
    "        \n",
    "        try:\n",
    "            landmarks = results.pose_landmarks.landmark\n",
    "            right_shoulder = landmarks[12]\n",
    "            right_hip = landmarks[24]\n",
    "            left_shoulder = landmarks[11]\n",
    "            left_hip = landmarks[23]\n",
    "            nose = landmarks[0]\n",
    "            max_x = max(right_shoulder.x, left_shoulder.x, right_hip.x, left_hip.x)\n",
    "            max_x = max_x + (max_x * 0.2)\n",
    "            min_x = min(right_shoulder.x, left_shoulder.x, right_hip.x, left_hip.x)\n",
    "            min_x = min_x - (min_x * 0.2)\n",
    "            min_y = min(right_hip.y, left_hip.y)\n",
    "            min_y = min_y + (min_y * 0.1)\n",
    "            max_y = nose.y - (nose.y * 0.2)\n",
    "        except:\n",
    "            pass\n",
    "        \n",
    "        if count % images_per_frame == 0:\n",
    "            cv2.imwrite(\"img/{}.png\".format(count), image[int(max_y*720):int(min_y*720), int(min_x*1280):int(max_x*1280)])\n",
    "        count += 1\n"
   ]
  },
  {
   "cell_type": "code",
   "execution_count": null,
   "id": "d72c51ff-18cd-44a7-910b-944778190dea",
   "metadata": {},
   "outputs": [],
   "source": [
    "# Rename the images\n",
    "img_list = os.listdir(\"../img/good\")\n",
    "count = 0\n",
    "for img in img_list:\n",
    "    os.rename(\"../img/good/{}\".format(img), \"../img/good/good_{}.png\".format(count))\n",
    "    count += 1"
   ]
  }
 ],
 "metadata": {
  "kernelspec": {
   "display_name": "Python 3 (ipykernel)",
   "language": "python",
   "name": "python3"
  },
  "language_info": {
   "codemirror_mode": {
    "name": "ipython",
    "version": 3
   },
   "file_extension": ".py",
   "mimetype": "text/x-python",
   "name": "python",
   "nbconvert_exporter": "python",
   "pygments_lexer": "ipython3",
   "version": "3.8.3"
  }
 },
 "nbformat": 4,
 "nbformat_minor": 5
}
