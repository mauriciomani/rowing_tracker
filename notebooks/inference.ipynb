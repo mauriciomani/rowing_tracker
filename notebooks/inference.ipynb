{
 "cells": [
  {
   "cell_type": "markdown",
   "id": "c1acb583-a56b-49ed-9199-b390f4ec5503",
   "metadata": {},
   "source": [
    "## Inference\n",
    "We have tested a variety of procedures:\n",
    "* Inference in each frame (slow)\n",
    "* Batch processing every 5 or 20 (slow)\n",
    "* Inference every 20 frames (fastest)"
   ]
  },
  {
   "cell_type": "code",
   "execution_count": 2,
   "id": "113e573c-457e-4e5c-9155-344c86a833d7",
   "metadata": {},
   "outputs": [
    {
     "name": "stderr",
     "output_type": "stream",
     "text": [
      "2022-01-15 00:34:34.662405: W tensorflow/stream_executor/platform/default/dso_loader.cc:60] Could not load dynamic library 'libcudart.so.11.0'; dlerror: libcudart.so.11.0: cannot open shared object file: No such file or directory\n",
      "2022-01-15 00:34:34.662473: I tensorflow/stream_executor/cuda/cudart_stub.cc:29] Ignore above cudart dlerror if you do not have a GPU set up on your machine.\n",
      "/home/mauriciomani/Desktop/rowing_tracker/venv/lib/python3.8/site-packages/tensorflow/python/keras/backend.py:434: UserWarning: `tf.keras.backend.set_learning_phase` is deprecated and will be removed after 2020-10-11. To update it, simply pass a True/False value to the `training` argument of the `__call__` method of your layer or model.\n",
      "  warnings.warn('`tf.keras.backend.set_learning_phase` is deprecated and '\n"
     ]
    }
   ],
   "source": [
    "from tensorflow.keras.models import load_model\n",
    "from tensorflow.keras.preprocessing import image\n",
    "import tensorflow as tf\n",
    "from tensorflow import keras\n",
    "import cv2\n",
    "import mediapipe as mp\n",
    "import numpy as np\n",
    "mp_drawing = mp.solutions.drawing_utils\n",
    "# We want the pose estimation\n",
    "mp_pose = mp.solutions.pose\n",
    "\n",
    "keras.backend.set_learning_phase(0)"
   ]
  },
  {
   "cell_type": "code",
   "execution_count": 3,
   "id": "578f0c1e-b674-4ac9-85fd-0ac3dd0e66f8",
   "metadata": {},
   "outputs": [
    {
     "name": "stderr",
     "output_type": "stream",
     "text": [
      "2022-01-15 00:34:37.416445: I tensorflow/compiler/jit/xla_cpu_device.cc:41] Not creating XLA devices, tf_xla_enable_xla_devices not set\n",
      "2022-01-15 00:34:37.423164: I tensorflow/stream_executor/platform/default/dso_loader.cc:49] Successfully opened dynamic library libcuda.so.1\n",
      "2022-01-15 00:34:37.465172: I tensorflow/stream_executor/cuda/cuda_gpu_executor.cc:941] successful NUMA node read from SysFS had negative value (-1), but there must be at least one NUMA node, so returning NUMA node zero\n",
      "2022-01-15 00:34:37.465868: I tensorflow/core/common_runtime/gpu/gpu_device.cc:1720] Found device 0 with properties: \n",
      "pciBusID: 0000:01:00.0 name: GeForce GTX 1650 Ti with Max-Q Design computeCapability: 7.5\n",
      "coreClock: 1.2GHz coreCount: 16 deviceMemorySize: 3.82GiB deviceMemoryBandwidth: 149.04GiB/s\n",
      "2022-01-15 00:34:37.466087: W tensorflow/stream_executor/platform/default/dso_loader.cc:60] Could not load dynamic library 'libcudart.so.11.0'; dlerror: libcudart.so.11.0: cannot open shared object file: No such file or directory; LD_LIBRARY_PATH: /home/mauriciomani/Desktop/rowing_tracker/venv/lib/python3.8/site-packages/cv2/../../lib64:\n",
      "2022-01-15 00:34:37.466284: W tensorflow/stream_executor/platform/default/dso_loader.cc:60] Could not load dynamic library 'libcublas.so.11'; dlerror: libcublas.so.11: cannot open shared object file: No such file or directory; LD_LIBRARY_PATH: /home/mauriciomani/Desktop/rowing_tracker/venv/lib/python3.8/site-packages/cv2/../../lib64:\n",
      "2022-01-15 00:34:37.466442: W tensorflow/stream_executor/platform/default/dso_loader.cc:60] Could not load dynamic library 'libcublasLt.so.11'; dlerror: libcublasLt.so.11: cannot open shared object file: No such file or directory; LD_LIBRARY_PATH: /home/mauriciomani/Desktop/rowing_tracker/venv/lib/python3.8/site-packages/cv2/../../lib64:\n",
      "2022-01-15 00:34:37.466629: W tensorflow/stream_executor/platform/default/dso_loader.cc:60] Could not load dynamic library 'libcufft.so.10'; dlerror: libcufft.so.10: cannot open shared object file: No such file or directory; LD_LIBRARY_PATH: /home/mauriciomani/Desktop/rowing_tracker/venv/lib/python3.8/site-packages/cv2/../../lib64:\n",
      "2022-01-15 00:34:37.466793: W tensorflow/stream_executor/platform/default/dso_loader.cc:60] Could not load dynamic library 'libcurand.so.10'; dlerror: libcurand.so.10: cannot open shared object file: No such file or directory; LD_LIBRARY_PATH: /home/mauriciomani/Desktop/rowing_tracker/venv/lib/python3.8/site-packages/cv2/../../lib64:\n",
      "2022-01-15 00:34:37.466950: W tensorflow/stream_executor/platform/default/dso_loader.cc:60] Could not load dynamic library 'libcusolver.so.10'; dlerror: libcusolver.so.10: cannot open shared object file: No such file or directory; LD_LIBRARY_PATH: /home/mauriciomani/Desktop/rowing_tracker/venv/lib/python3.8/site-packages/cv2/../../lib64:\n",
      "2022-01-15 00:34:37.467119: W tensorflow/stream_executor/platform/default/dso_loader.cc:60] Could not load dynamic library 'libcusparse.so.11'; dlerror: libcusparse.so.11: cannot open shared object file: No such file or directory; LD_LIBRARY_PATH: /home/mauriciomani/Desktop/rowing_tracker/venv/lib/python3.8/site-packages/cv2/../../lib64:\n",
      "2022-01-15 00:34:37.467279: W tensorflow/stream_executor/platform/default/dso_loader.cc:60] Could not load dynamic library 'libcudnn.so.8'; dlerror: libcudnn.so.8: cannot open shared object file: No such file or directory; LD_LIBRARY_PATH: /home/mauriciomani/Desktop/rowing_tracker/venv/lib/python3.8/site-packages/cv2/../../lib64:\n",
      "2022-01-15 00:34:37.467299: W tensorflow/core/common_runtime/gpu/gpu_device.cc:1757] Cannot dlopen some GPU libraries. Please make sure the missing libraries mentioned above are installed properly if you would like to use GPU. Follow the guide at https://www.tensorflow.org/install/gpu for how to download and setup the required libraries for your platform.\n",
      "Skipping registering GPU devices...\n",
      "2022-01-15 00:34:37.468065: I tensorflow/core/platform/cpu_feature_guard.cc:142] This TensorFlow binary is optimized with oneAPI Deep Neural Network Library (oneDNN) to use the following CPU instructions in performance-critical operations:  AVX2 FMA\n",
      "To enable them in other operations, rebuild TensorFlow with the appropriate compiler flags.\n",
      "2022-01-15 00:34:37.468811: I tensorflow/compiler/jit/xla_gpu_device.cc:99] Not creating XLA devices, tf_xla_enable_xla_devices not set\n",
      "2022-01-15 00:34:37.468857: I tensorflow/core/common_runtime/gpu/gpu_device.cc:1261] Device interconnect StreamExecutor with strength 1 edge matrix:\n",
      "2022-01-15 00:34:37.468870: I tensorflow/core/common_runtime/gpu/gpu_device.cc:1267]      \n"
     ]
    }
   ],
   "source": [
    "model = load_model(\"../models/mobile.h5\")"
   ]
  },
  {
   "cell_type": "code",
   "execution_count": 7,
   "id": "d5b2f817-fada-4b25-a595-c2975e38bbde",
   "metadata": {},
   "outputs": [
    {
     "name": "stdout",
     "output_type": "stream",
     "text": [
      "Warning\n",
      "Warning\n",
      "Warning\n",
      "Warning\n",
      "Image problems\n",
      "Image problems\n",
      "Image problems\n",
      "Image problems\n",
      "Image problems\n",
      "Warning\n",
      "Warning\n",
      "Warning\n",
      "Warning\n",
      "Warning\n",
      "Warning\n",
      "Warning\n",
      "Warning\n",
      "Warning\n",
      "Warning\n",
      "Warning\n",
      "Warning\n",
      "Warning\n",
      "Warning\n",
      "Warning\n",
      "Image problems\n",
      "Warning\n",
      "Warning\n",
      "Warning\n",
      "Warning\n",
      "Warning\n",
      "Warning\n",
      "Warning\n",
      "Warning\n",
      "Warning\n",
      "Warning\n",
      "Warning\n",
      "Warning\n",
      "Warning\n",
      "Warning\n",
      "Warning\n",
      "Warning\n",
      "Warning\n",
      "Image problems\n",
      "Image problems\n",
      "Image problems\n",
      "Image problems\n",
      "Warning\n",
      "Warning\n",
      "Warning\n"
     ]
    }
   ],
   "source": [
    "### Video\n",
    "cap = cv2.VideoCapture('../videos/rowing2.mp4')\n",
    "\n",
    "count = 0\n",
    "with mp_pose.Pose(min_detection_confidence=0.5, min_tracking_confidence=0.5) as pose:  \n",
    "    while cap.isOpened():\n",
    "        ret, frame = cap.read()\n",
    "        \n",
    "        cv_image = cv2.cvtColor(frame, cv2.COLOR_BGR2RGB)\n",
    "        cv_image.flags.writeable = False\n",
    "        \n",
    "        results = pose.process(cv_image)\n",
    "        \n",
    "        cv_image.flags.writeable = True\n",
    "        cv_image = cv2.cvtColor(cv_image, cv2.COLOR_RGB2BGR)\n",
    "        \n",
    "        try:\n",
    "            landmarks = results.pose_landmarks.landmark\n",
    "            right_shoulder = landmarks[12]\n",
    "            right_hip = landmarks[24]\n",
    "            left_shoulder = landmarks[11]\n",
    "            left_hip = landmarks[23]\n",
    "            nose = landmarks[0]\n",
    "            max_x = max(right_shoulder.x, left_shoulder.x, right_hip.x, left_hip.x)\n",
    "            max_x = max_x + (max_x * 0.2)\n",
    "            min_x = min(right_shoulder.x, left_shoulder.x, right_hip.x, left_hip.x)\n",
    "            min_x = min_x - (min_x * 0.2)\n",
    "            min_y = min(right_hip.y, left_hip.y)\n",
    "            min_y = min_y + (min_y * 0.1)\n",
    "            max_y = nose.y - (nose.y * 0.2)\n",
    "            cropped_img = cv_image[int(max_y*720):int(min_y*720), int(min_x*1280):int(max_x*1280)]\n",
    "            image_cnn = cv2.resize(cropped_img, (224, 224))\n",
    "            img_array = image.img_to_array(image_cnn)\n",
    "            img_batch = np.expand_dims(img_array, axis=0)\n",
    "            processed_image = tf.keras.applications.mobilenet.preprocess_input(img_batch)\n",
    "        \n",
    "            #prediction = model.predict(x=processed_image)\n",
    "            if (count % 10 == 0):\n",
    "                prediction = model.predict(x=processed_image)[0][1]\n",
    "                if prediction >= 0.5:\n",
    "                    print(\"Warning\")\n",
    "        except:\n",
    "            print(\"Image problems\")\n",
    "            pass\n",
    "        \n",
    "        count += 1\n",
    "        \n",
    "        cv2.imshow(\"mediapipe test\", cv_image)#image_cnn\n",
    "        if cv2.waitKey(10) & 0xFF == ord(\"q\"):\n",
    "            break\n",
    "        \n",
    "    \n",
    "    cap.release()\n",
    "    cv2.destroyAllWindows()"
   ]
  }
 ],
 "metadata": {
  "kernelspec": {
   "display_name": "Python 3 (ipykernel)",
   "language": "python",
   "name": "python3"
  },
  "language_info": {
   "codemirror_mode": {
    "name": "ipython",
    "version": 3
   },
   "file_extension": ".py",
   "mimetype": "text/x-python",
   "name": "python",
   "nbconvert_exporter": "python",
   "pygments_lexer": "ipython3",
   "version": "3.8.3"
  }
 },
 "nbformat": 4,
 "nbformat_minor": 5
}
