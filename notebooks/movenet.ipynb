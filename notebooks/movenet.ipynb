{
 "cells": [
  {
   "cell_type": "code",
   "execution_count": 1,
   "id": "cd7e3d67-ea15-40d4-9f9a-f082c91d4b8e",
   "metadata": {},
   "outputs": [],
   "source": [
    "!pip install tensorflow==2.4.1 tensorflow-gpu==2.4.1 opencv-python matplotlib"
   ]
  },
  {
   "cell_type": "code",
   "execution_count": 2,
   "id": "cea00350-6929-4088-8285-73315e1f28d5",
   "metadata": {},
   "outputs": [
    {
     "name": "stderr",
     "output_type": "stream",
     "text": [
      "2021-12-05 20:51:52.731634: W tensorflow/stream_executor/platform/default/dso_loader.cc:60] Could not load dynamic library 'libcudart.so.11.0'; dlerror: libcudart.so.11.0: cannot open shared object file: No such file or directory\n",
      "2021-12-05 20:51:52.731653: I tensorflow/stream_executor/cuda/cudart_stub.cc:29] Ignore above cudart dlerror if you do not have a GPU set up on your machine.\n"
     ]
    }
   ],
   "source": [
    "import tensorflow as tf\n",
    "import numpy as np\n",
    "import matplotlib.pyplot as plt\n",
    "import cv2"
   ]
  },
  {
   "cell_type": "code",
   "execution_count": 71,
   "id": "b4338376-1a9c-4edf-b601-5dffe28ba533",
   "metadata": {},
   "outputs": [],
   "source": [
    "_map = {3: \"leftEar\", 4: \"rightEar\", 5: \"leftShoulder\", 6: \"rightShoulder\", 7: \"leftElbow\", 8: \"rightElbow\", 9: \"leftWrist\", \n",
    "        10: \"rightWrist\", 11: \"leftHip\", 12: \"rightHip\", 13: \"leftKnee\", 14: \"rightKnee\", 15: \"leftAnkle\", 16: \"rightAnkle\"}"
   ]
  },
  {
   "cell_type": "code",
   "execution_count": 3,
   "id": "6b86e589-dccf-4991-81d7-a52cd70dc3b2",
   "metadata": {},
   "outputs": [],
   "source": [
    "interpreter = tf.lite.Interpreter(model_path=\"../models/lite-model_movenet_singlepose_lightning_3.tflite\")\n",
    "interpreter.allocate_tensors()"
   ]
  },
  {
   "cell_type": "code",
   "execution_count": 81,
   "id": "2160c01a-7c8d-43f2-86f3-4a48963480ea",
   "metadata": {},
   "outputs": [],
   "source": [
    "def draw_keypoints(frame, keypoint, confidence):\n",
    "    font = cv2.FONT_HERSHEY_SIMPLEX\n",
    "    y, x, c = frame.shape\n",
    "    shaped = np.squeeze(np.multiply(keypoint,[y, x, 1]))\n",
    "    \n",
    "    # Avoid eyes and nose tracking\n",
    "    index = 3\n",
    "    for kp in shaped[3:]:\n",
    "        ky, kx, kp_conf = kp\n",
    "        if kp_conf > confidence:\n",
    "            cv2.circle(frame, (int(kx), int(ky)), 4, (0, 255, 0), -1)\n",
    "            # Add the probability and the name of the point\n",
    "            cv2.putText(frame, _map[index] + \": \" + str(round(kp_conf, 2)), (int(kx), int(ky)), font, 0.5, (0, 255, 0), 1, cv2.LINE_AA)\n",
    "        index += 1"
   ]
  },
  {
   "cell_type": "code",
   "execution_count": 86,
   "id": "329eb9e8-1969-43f8-8173-9956534be987",
   "metadata": {
    "tags": []
   },
   "outputs": [],
   "source": [
    "## Webcam\n",
    "#cap = cv2.VideoCapture(0)\n",
    "\n",
    "## Video\n",
    "cap = cv2.VideoCapture('../rowing2.mp4')\n",
    "\n",
    "while cap.isOpened():\n",
    "    ret, frame = cap.read()\n",
    "    \n",
    "    img = frame.copy()\n",
    "    img = tf.image.resize_with_pad(np.expand_dims(img, axis=0), 192, 192)\n",
    "    input_image = tf.cast(img, dtype=tf.float32)\n",
    "    \n",
    "    input_details = interpreter.get_input_details()\n",
    "    output_details = interpreter.get_output_details()\n",
    "    \n",
    "    interpreter.set_tensor(input_details[0][\"index\"], np.array(input_image))\n",
    "    interpreter.invoke()\n",
    "    keypoints_with_scores = interpreter.get_tensor(output_details[0][\"index\"])\n",
    "    \n",
    "    draw_keypoints(frame, keypoints_with_scores, 0.4)\n",
    "    \n",
    "    cv2.imshow(\"Movenet test\", frame)\n",
    "    if cv2.waitKey(10) & 0xFF == ord(\"q\"):\n",
    "        break\n",
    "\n",
    "cap.release()\n",
    "cv2.destroyAllWindows()"
   ]
  }
 ],
 "metadata": {
  "kernelspec": {
   "display_name": "Python 3 (ipykernel)",
   "language": "python",
   "name": "python3"
  },
  "language_info": {
   "codemirror_mode": {
    "name": "ipython",
    "version": 3
   },
   "file_extension": ".py",
   "mimetype": "text/x-python",
   "name": "python",
   "nbconvert_exporter": "python",
   "pygments_lexer": "ipython3",
   "version": "3.8.3"
  }
 },
 "nbformat": 4,
 "nbformat_minor": 5
}
