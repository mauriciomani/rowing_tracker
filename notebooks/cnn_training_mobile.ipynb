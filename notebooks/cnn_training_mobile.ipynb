{
 "cells": [
  {
   "cell_type": "markdown",
   "id": "ef2174a1-f485-4461-b8ae-2b0efc144de9",
   "metadata": {},
   "source": [
    "# Detecting bad posture"
   ]
  },
  {
   "cell_type": "code",
   "execution_count": 1,
   "id": "144b1212-7143-4f5d-a238-5345bb937ab7",
   "metadata": {},
   "outputs": [
    {
     "name": "stderr",
     "output_type": "stream",
     "text": [
      "2022-01-13 23:01:01.420904: W tensorflow/stream_executor/platform/default/dso_loader.cc:60] Could not load dynamic library 'libcudart.so.11.0'; dlerror: libcudart.so.11.0: cannot open shared object file: No such file or directory\n",
      "2022-01-13 23:01:01.420926: I tensorflow/stream_executor/cuda/cudart_stub.cc:29] Ignore above cudart dlerror if you do not have a GPU set up on your machine.\n"
     ]
    }
   ],
   "source": [
    "import tensorflow as tf\n",
    "from tensorflow import keras\n",
    "from tensorflow.keras.preprocessing.image import ImageDataGenerator\n",
    "from tensorflow.keras import Sequential\n",
    "from tensorflow.keras.layers import Dense\n",
    "from tensorflow.keras.layers import Flatten\n",
    "from tensorflow.keras.optimizers import Adam\n",
    "import numpy as np"
   ]
  },
  {
   "cell_type": "code",
   "execution_count": 2,
   "id": "e14b455b-22ef-4a7f-835f-e98cddf05f22",
   "metadata": {},
   "outputs": [],
   "source": [
    "BATCH_SIZE = 16 # 10, 8, 16\n",
    "ROTATION = 0.05"
   ]
  },
  {
   "cell_type": "code",
   "execution_count": 3,
   "id": "acdc378d-b955-4be0-91f9-348a7a54363b",
   "metadata": {},
   "outputs": [
    {
     "name": "stdout",
     "output_type": "stream",
     "text": [
      "Found 1045 images belonging to 2 classes.\n",
      "Found 115 images belonging to 2 classes.\n"
     ]
    }
   ],
   "source": [
    "idg = ImageDataGenerator(preprocessing_function=tf.keras.applications.mobilenet.preprocess_input, validation_split=0.1)\n",
    "train = idg.flow_from_directory(directory=\"../img/train\",\n",
    "                                shuffle=True,\n",
    "                                target_size=(224, 224), \n",
    "                                classes=[\"good\", \"bad\"], \n",
    "                                batch_size=BATCH_SIZE,\n",
    "                                subset='training')\n",
    "\n",
    "val = idg.flow_from_directory(directory=\"../img/train\",\n",
    "                                target_size=(224, 224), \n",
    "                                classes=[\"good\", \"bad\"], \n",
    "                                batch_size=BATCH_SIZE,\n",
    "                                subset='validation')"
   ]
  },
  {
   "cell_type": "code",
   "execution_count": 4,
   "id": "03b1c4f0-6acc-4195-9c1a-dd88178d6468",
   "metadata": {},
   "outputs": [
    {
     "name": "stderr",
     "output_type": "stream",
     "text": [
      "2022-01-13 23:01:03.578528: I tensorflow/compiler/jit/xla_cpu_device.cc:41] Not creating XLA devices, tf_xla_enable_xla_devices not set\n",
      "2022-01-13 23:01:03.585993: I tensorflow/stream_executor/platform/default/dso_loader.cc:49] Successfully opened dynamic library libcuda.so.1\n",
      "2022-01-13 23:01:03.640078: I tensorflow/stream_executor/cuda/cuda_gpu_executor.cc:941] successful NUMA node read from SysFS had negative value (-1), but there must be at least one NUMA node, so returning NUMA node zero\n",
      "2022-01-13 23:01:03.640365: I tensorflow/core/common_runtime/gpu/gpu_device.cc:1720] Found device 0 with properties: \n",
      "pciBusID: 0000:01:00.0 name: GeForce GTX 1650 Ti with Max-Q Design computeCapability: 7.5\n",
      "coreClock: 1.2GHz coreCount: 16 deviceMemorySize: 3.82GiB deviceMemoryBandwidth: 149.04GiB/s\n",
      "2022-01-13 23:01:03.640477: W tensorflow/stream_executor/platform/default/dso_loader.cc:60] Could not load dynamic library 'libcudart.so.11.0'; dlerror: libcudart.so.11.0: cannot open shared object file: No such file or directory\n",
      "2022-01-13 23:01:03.640603: W tensorflow/stream_executor/platform/default/dso_loader.cc:60] Could not load dynamic library 'libcublas.so.11'; dlerror: libcublas.so.11: cannot open shared object file: No such file or directory\n",
      "2022-01-13 23:01:03.640666: W tensorflow/stream_executor/platform/default/dso_loader.cc:60] Could not load dynamic library 'libcublasLt.so.11'; dlerror: libcublasLt.so.11: cannot open shared object file: No such file or directory\n",
      "2022-01-13 23:01:03.640716: W tensorflow/stream_executor/platform/default/dso_loader.cc:60] Could not load dynamic library 'libcufft.so.10'; dlerror: libcufft.so.10: cannot open shared object file: No such file or directory\n",
      "2022-01-13 23:01:03.640767: W tensorflow/stream_executor/platform/default/dso_loader.cc:60] Could not load dynamic library 'libcurand.so.10'; dlerror: libcurand.so.10: cannot open shared object file: No such file or directory\n",
      "2022-01-13 23:01:03.640830: W tensorflow/stream_executor/platform/default/dso_loader.cc:60] Could not load dynamic library 'libcusolver.so.10'; dlerror: libcusolver.so.10: cannot open shared object file: No such file or directory\n",
      "2022-01-13 23:01:03.640877: W tensorflow/stream_executor/platform/default/dso_loader.cc:60] Could not load dynamic library 'libcusparse.so.11'; dlerror: libcusparse.so.11: cannot open shared object file: No such file or directory\n",
      "2022-01-13 23:01:03.640925: W tensorflow/stream_executor/platform/default/dso_loader.cc:60] Could not load dynamic library 'libcudnn.so.8'; dlerror: libcudnn.so.8: cannot open shared object file: No such file or directory\n",
      "2022-01-13 23:01:03.640940: W tensorflow/core/common_runtime/gpu/gpu_device.cc:1757] Cannot dlopen some GPU libraries. Please make sure the missing libraries mentioned above are installed properly if you would like to use GPU. Follow the guide at https://www.tensorflow.org/install/gpu for how to download and setup the required libraries for your platform.\n",
      "Skipping registering GPU devices...\n",
      "2022-01-13 23:01:03.641270: I tensorflow/core/platform/cpu_feature_guard.cc:142] This TensorFlow binary is optimized with oneAPI Deep Neural Network Library (oneDNN) to use the following CPU instructions in performance-critical operations:  AVX2 FMA\n",
      "To enable them in other operations, rebuild TensorFlow with the appropriate compiler flags.\n",
      "2022-01-13 23:01:03.641589: I tensorflow/compiler/jit/xla_gpu_device.cc:99] Not creating XLA devices, tf_xla_enable_xla_devices not set\n",
      "2022-01-13 23:01:03.641620: I tensorflow/core/common_runtime/gpu/gpu_device.cc:1261] Device interconnect StreamExecutor with strength 1 edge matrix:\n",
      "2022-01-13 23:01:03.641626: I tensorflow/core/common_runtime/gpu/gpu_device.cc:1267]      \n"
     ]
    }
   ],
   "source": [
    "mobile_model = tf.keras.applications.MobileNetV2()"
   ]
  },
  {
   "cell_type": "code",
   "execution_count": 5,
   "id": "95bce670-3076-4945-a268-94d72e4b5d2a",
   "metadata": {},
   "outputs": [],
   "source": [
    "def count_params(model):\n",
    "    non_trainable_params = np.sum([np.prod(v.get_shape().as_list()) for v in model.non_trainable_weights])\n",
    "    trainable_params = np.sum([np.prod(v.get_shape().as_list()) for v in model.trainable_weights])\n",
    "    return {\"non_trainable_params\": non_trainable_params, \"trainable_params\": trainable_params}"
   ]
  },
  {
   "cell_type": "code",
   "execution_count": 6,
   "id": "ddbb5652-ad68-4e77-9517-a9e52df1c5ee",
   "metadata": {},
   "outputs": [
    {
     "name": "stdout",
     "output_type": "stream",
     "text": [
      "{'non_trainable_params': 34112, 'trainable_params': 3504872}\n"
     ]
    }
   ],
   "source": [
    "params = count_params(mobile_model)\n",
    "print(params)"
   ]
  },
  {
   "cell_type": "code",
   "execution_count": 8,
   "id": "d30214a6-56d5-482e-8b5b-1e4e59d0062f",
   "metadata": {},
   "outputs": [],
   "source": [
    "for layer in mobile_model.layers[:100]:\n",
    "    layer.trainable = False"
   ]
  },
  {
   "cell_type": "code",
   "execution_count": 9,
   "id": "b35cda61-fa92-4748-9db3-463988838c09",
   "metadata": {},
   "outputs": [],
   "source": [
    "model = Sequential()\n",
    "model.add(mobile_model)\n",
    "model.add(Flatten())\n",
    "model.add(Dense(units=2, activation=\"softmax\"))"
   ]
  },
  {
   "cell_type": "code",
   "execution_count": 10,
   "id": "ed9bc244-af93-4eea-bba4-28110e07d133",
   "metadata": {},
   "outputs": [
    {
     "name": "stdout",
     "output_type": "stream",
     "text": [
      "{'non_trainable_params': 396544, 'trainable_params': 3144442}\n"
     ]
    }
   ],
   "source": [
    "print(count_params(model))"
   ]
  },
  {
   "cell_type": "code",
   "execution_count": 11,
   "id": "8b1e8fa8-f413-4ef1-8060-46e10bcf7026",
   "metadata": {},
   "outputs": [],
   "source": [
    "# Prove on decreasing learning rate\n",
    "model.compile(optimizer=Adam(learning_rate=0.0001), loss=\"categorical_crossentropy\", metrics=[tf.keras.metrics.Precision(), tf.keras.metrics.Recall()])"
   ]
  },
  {
   "cell_type": "code",
   "execution_count": 12,
   "id": "644ae694-5ae3-4258-8f86-cb5351a5089c",
   "metadata": {},
   "outputs": [
    {
     "name": "stderr",
     "output_type": "stream",
     "text": [
      "2022-01-13 23:03:25.800115: I tensorflow/compiler/mlir/mlir_graph_optimization_pass.cc:116] None of the MLIR optimization passes are enabled (registered 2)\n",
      "2022-01-13 23:03:25.819646: I tensorflow/core/platform/profile_utils/cpu_utils.cc:112] CPU Frequency: 2400000000 Hz\n"
     ]
    },
    {
     "name": "stdout",
     "output_type": "stream",
     "text": [
      "Epoch 1/5\n",
      "66/66 [==============================] - 28s 392ms/step - loss: 0.2021 - precision: 0.8857 - recall: 0.8857 - val_loss: 0.6502 - val_precision: 0.8609 - val_recall: 0.8609\n",
      "Epoch 2/5\n",
      "66/66 [==============================] - 27s 407ms/step - loss: 0.1797 - precision: 0.9738 - recall: 0.9738 - val_loss: 0.6400 - val_precision: 0.8696 - val_recall: 0.8696\n",
      "Epoch 3/5\n",
      "66/66 [==============================] - 27s 406ms/step - loss: 0.1871 - precision: 0.9813 - recall: 0.9813 - val_loss: 0.6288 - val_precision: 0.8870 - val_recall: 0.8870\n",
      "Epoch 4/5\n",
      "66/66 [==============================] - 27s 407ms/step - loss: 0.1859 - precision: 0.9880 - recall: 0.9880 - val_loss: 0.6201 - val_precision: 0.8870 - val_recall: 0.8870\n",
      "Epoch 5/5\n",
      "66/66 [==============================] - 27s 409ms/step - loss: 0.1819 - precision: 0.9871 - recall: 0.9871 - val_loss: 0.6106 - val_precision: 0.9043 - val_recall: 0.9043\n"
     ]
    },
    {
     "data": {
      "text/plain": [
       "<tensorflow.python.keras.callbacks.History at 0x7f00484c91c0>"
      ]
     },
     "execution_count": 12,
     "metadata": {},
     "output_type": "execute_result"
    }
   ],
   "source": [
    "model.fit(x=train, validation_data=val, epochs=5, shuffle=True, class_weight={0:0.2, 1:0.8})"
   ]
  },
  {
   "cell_type": "code",
   "execution_count": 13,
   "id": "64c11658-edc5-4d9a-b528-bbd6faf0ab6c",
   "metadata": {},
   "outputs": [],
   "source": [
    "model.save(\"../models/mobile.h5\")"
   ]
  }
 ],
 "metadata": {
  "kernelspec": {
   "display_name": "Python 3 (ipykernel)",
   "language": "python",
   "name": "python3"
  },
  "language_info": {
   "codemirror_mode": {
    "name": "ipython",
    "version": 3
   },
   "file_extension": ".py",
   "mimetype": "text/x-python",
   "name": "python",
   "nbconvert_exporter": "python",
   "pygments_lexer": "ipython3",
   "version": "3.8.3"
  }
 },
 "nbformat": 4,
 "nbformat_minor": 5
}
