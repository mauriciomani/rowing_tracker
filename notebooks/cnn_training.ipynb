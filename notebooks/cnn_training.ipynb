{
 "cells": [
  {
   "cell_type": "markdown",
   "id": "ef2174a1-f485-4461-b8ae-2b0efc144de9",
   "metadata": {},
   "source": [
    "# Detecting bad posture"
   ]
  },
  {
   "cell_type": "code",
   "execution_count": 2,
   "id": "144b1212-7143-4f5d-a238-5345bb937ab7",
   "metadata": {},
   "outputs": [
    {
     "name": "stderr",
     "output_type": "stream",
     "text": [
      "2022-01-03 23:53:30.232690: W tensorflow/stream_executor/platform/default/dso_loader.cc:60] Could not load dynamic library 'libcudart.so.11.0'; dlerror: libcudart.so.11.0: cannot open shared object file: No such file or directory; LD_LIBRARY_PATH: /home/mauriciomani/Desktop/rowing_tracker/venv/lib/python3.8/site-packages/cv2/../../lib64:\n",
      "2022-01-03 23:53:30.232708: I tensorflow/stream_executor/cuda/cudart_stub.cc:29] Ignore above cudart dlerror if you do not have a GPU set up on your machine.\n"
     ]
    }
   ],
   "source": [
    "import tensorflow as tf\n",
    "from tensorflow import keras\n",
    "from tensorflow.keras.preprocessing.image import ImageDataGenerator\n",
    "from tensorflow.keras import Sequential\n",
    "from tensorflow.keras.layers import Dense\n",
    "from tensorflow.keras.layers import Flatten\n",
    "from tensorflow.keras.optimizers import Adam\n",
    "import numpy as np"
   ]
  },
  {
   "cell_type": "code",
   "execution_count": 2,
   "id": "e14b455b-22ef-4a7f-835f-e98cddf05f22",
   "metadata": {},
   "outputs": [],
   "source": [
    "BATCH_SIZE = 16 # 10, 8, 16\n",
    "ROTATION = 0.05"
   ]
  },
  {
   "cell_type": "code",
   "execution_count": 3,
   "id": "acdc378d-b955-4be0-91f9-348a7a54363b",
   "metadata": {},
   "outputs": [
    {
     "name": "stdout",
     "output_type": "stream",
     "text": [
      "Found 1045 images belonging to 2 classes.\n",
      "Found 115 images belonging to 2 classes.\n"
     ]
    }
   ],
   "source": [
    "idg = ImageDataGenerator(preprocessing_function=tf.keras.applications.resnet50.preprocess_input, validation_split=0.1)\n",
    "train = idg.flow_from_directory(directory=\"../img/train\",\n",
    "                                shuffle=True,\n",
    "                                target_size=(224, 224), \n",
    "                                classes=[\"good\", \"bad\"], \n",
    "                                batch_size=BATCH_SIZE,\n",
    "                                subset='training')\n",
    "\n",
    "val = idg.flow_from_directory(directory=\"../img/train\",\n",
    "                                target_size=(224, 224), \n",
    "                                classes=[\"good\", \"bad\"], \n",
    "                                batch_size=BATCH_SIZE,\n",
    "                                subset='validation')"
   ]
  },
  {
   "cell_type": "code",
   "execution_count": 4,
   "id": "03b1c4f0-6acc-4195-9c1a-dd88178d6468",
   "metadata": {},
   "outputs": [
    {
     "name": "stderr",
     "output_type": "stream",
     "text": [
      "2022-01-03 22:39:24.126406: I tensorflow/compiler/jit/xla_cpu_device.cc:41] Not creating XLA devices, tf_xla_enable_xla_devices not set\n",
      "2022-01-03 22:39:24.132884: I tensorflow/stream_executor/platform/default/dso_loader.cc:49] Successfully opened dynamic library libcuda.so.1\n",
      "2022-01-03 22:39:24.177654: I tensorflow/stream_executor/cuda/cuda_gpu_executor.cc:941] successful NUMA node read from SysFS had negative value (-1), but there must be at least one NUMA node, so returning NUMA node zero\n",
      "2022-01-03 22:39:24.177848: I tensorflow/core/common_runtime/gpu/gpu_device.cc:1720] Found device 0 with properties: \n",
      "pciBusID: 0000:01:00.0 name: GeForce GTX 1650 Ti with Max-Q Design computeCapability: 7.5\n",
      "coreClock: 1.2GHz coreCount: 16 deviceMemorySize: 3.82GiB deviceMemoryBandwidth: 149.04GiB/s\n",
      "2022-01-03 22:39:24.177907: W tensorflow/stream_executor/platform/default/dso_loader.cc:60] Could not load dynamic library 'libcudart.so.11.0'; dlerror: libcudart.so.11.0: cannot open shared object file: No such file or directory\n",
      "2022-01-03 22:39:24.177960: W tensorflow/stream_executor/platform/default/dso_loader.cc:60] Could not load dynamic library 'libcublas.so.11'; dlerror: libcublas.so.11: cannot open shared object file: No such file or directory\n",
      "2022-01-03 22:39:24.178000: W tensorflow/stream_executor/platform/default/dso_loader.cc:60] Could not load dynamic library 'libcublasLt.so.11'; dlerror: libcublasLt.so.11: cannot open shared object file: No such file or directory\n",
      "2022-01-03 22:39:24.178040: W tensorflow/stream_executor/platform/default/dso_loader.cc:60] Could not load dynamic library 'libcufft.so.10'; dlerror: libcufft.so.10: cannot open shared object file: No such file or directory\n",
      "2022-01-03 22:39:24.178079: W tensorflow/stream_executor/platform/default/dso_loader.cc:60] Could not load dynamic library 'libcurand.so.10'; dlerror: libcurand.so.10: cannot open shared object file: No such file or directory\n",
      "2022-01-03 22:39:24.178117: W tensorflow/stream_executor/platform/default/dso_loader.cc:60] Could not load dynamic library 'libcusolver.so.10'; dlerror: libcusolver.so.10: cannot open shared object file: No such file or directory\n",
      "2022-01-03 22:39:24.178155: W tensorflow/stream_executor/platform/default/dso_loader.cc:60] Could not load dynamic library 'libcusparse.so.11'; dlerror: libcusparse.so.11: cannot open shared object file: No such file or directory\n",
      "2022-01-03 22:39:24.178195: W tensorflow/stream_executor/platform/default/dso_loader.cc:60] Could not load dynamic library 'libcudnn.so.8'; dlerror: libcudnn.so.8: cannot open shared object file: No such file or directory\n",
      "2022-01-03 22:39:24.178200: W tensorflow/core/common_runtime/gpu/gpu_device.cc:1757] Cannot dlopen some GPU libraries. Please make sure the missing libraries mentioned above are installed properly if you would like to use GPU. Follow the guide at https://www.tensorflow.org/install/gpu for how to download and setup the required libraries for your platform.\n",
      "Skipping registering GPU devices...\n",
      "2022-01-03 22:39:24.178475: I tensorflow/core/platform/cpu_feature_guard.cc:142] This TensorFlow binary is optimized with oneAPI Deep Neural Network Library (oneDNN) to use the following CPU instructions in performance-critical operations:  AVX2 FMA\n",
      "To enable them in other operations, rebuild TensorFlow with the appropriate compiler flags.\n",
      "2022-01-03 22:39:24.178655: I tensorflow/compiler/jit/xla_gpu_device.cc:99] Not creating XLA devices, tf_xla_enable_xla_devices not set\n",
      "2022-01-03 22:39:24.178666: I tensorflow/core/common_runtime/gpu/gpu_device.cc:1261] Device interconnect StreamExecutor with strength 1 edge matrix:\n",
      "2022-01-03 22:39:24.178669: I tensorflow/core/common_runtime/gpu/gpu_device.cc:1267]      \n"
     ]
    }
   ],
   "source": [
    "#vgg16_model = tf.keras.applications.vgg16.VGG16()\n",
    "resnet_model = tf.keras.applications.resnet50.ResNet50()"
   ]
  },
  {
   "cell_type": "code",
   "execution_count": 5,
   "id": "95bce670-3076-4945-a268-94d72e4b5d2a",
   "metadata": {},
   "outputs": [],
   "source": [
    "def count_params(model):\n",
    "    non_trainable_params = np.sum([np.prod(v.get_shape().as_list()) for v in model.non_trainable_weights])\n",
    "    trainable_params = np.sum([np.prod(v.get_shape().as_list()) for v in model.trainable_weights])\n",
    "    return {\"non_trainable_params\": non_trainable_params, \"trainable_params\": trainable_params}"
   ]
  },
  {
   "cell_type": "code",
   "execution_count": 6,
   "id": "ddbb5652-ad68-4e77-9517-a9e52df1c5ee",
   "metadata": {},
   "outputs": [
    {
     "name": "stdout",
     "output_type": "stream",
     "text": [
      "{'non_trainable_params': 53120, 'trainable_params': 25583592}\n"
     ]
    }
   ],
   "source": [
    "params = count_params(resnet_model)\n",
    "print(params)"
   ]
  },
  {
   "cell_type": "code",
   "execution_count": 21,
   "id": "0b609d6d-48d4-42e2-9cb2-d60bf5828d3a",
   "metadata": {},
   "outputs": [],
   "source": [
    "#model = Sequential()\n",
    "#for layer in resnet_model.layers[:-1]:\n",
    "#    model.add(layer)"
   ]
  },
  {
   "cell_type": "code",
   "execution_count": 7,
   "id": "d30214a6-56d5-482e-8b5b-1e4e59d0062f",
   "metadata": {},
   "outputs": [],
   "source": [
    "for layer in resnet_model.layers[:143]:\n",
    "    layer.trainable = False"
   ]
  },
  {
   "cell_type": "code",
   "execution_count": null,
   "id": "d387519d-485f-4c30-8af2-c1d6cbd5eb12",
   "metadata": {},
   "outputs": [],
   "source": [
    "#for layer in model.layers:\n",
    "#    layer.trainable = False"
   ]
  },
  {
   "cell_type": "code",
   "execution_count": 8,
   "id": "b35cda61-fa92-4748-9db3-463988838c09",
   "metadata": {},
   "outputs": [],
   "source": [
    "model = Sequential()\n",
    "model.add(resnet_model)\n",
    "model.add(Flatten())\n",
    "model.add(Dense(units=2, activation=\"softmax\"))"
   ]
  },
  {
   "cell_type": "code",
   "execution_count": 8,
   "id": "5a4015cf-e7cd-496f-8d4f-d6e04089f29b",
   "metadata": {},
   "outputs": [],
   "source": [
    "#model.add(Dense(units=2, activation=\"softmax\"))"
   ]
  },
  {
   "cell_type": "code",
   "execution_count": 9,
   "id": "ed9bc244-af93-4eea-bba4-28110e07d133",
   "metadata": {},
   "outputs": [
    {
     "name": "stdout",
     "output_type": "stream",
     "text": [
      "{'non_trainable_params': 8611712, 'trainable_params': 17027002}\n"
     ]
    }
   ],
   "source": [
    "print(count_params(model))"
   ]
  },
  {
   "cell_type": "code",
   "execution_count": 10,
   "id": "8b1e8fa8-f413-4ef1-8060-46e10bcf7026",
   "metadata": {},
   "outputs": [],
   "source": [
    "# Prove on decreasing learning rate\n",
    "model.compile(optimizer=Adam(learning_rate=0.0001), loss=\"categorical_crossentropy\", metrics=[tf.keras.metrics.Precision(), tf.keras.metrics.Recall()])"
   ]
  },
  {
   "cell_type": "code",
   "execution_count": 11,
   "id": "644ae694-5ae3-4258-8f86-cb5351a5089c",
   "metadata": {},
   "outputs": [
    {
     "name": "stderr",
     "output_type": "stream",
     "text": [
      "2022-01-03 22:39:44.760686: I tensorflow/compiler/mlir/mlir_graph_optimization_pass.cc:116] None of the MLIR optimization passes are enabled (registered 2)\n",
      "2022-01-03 22:39:44.779675: I tensorflow/core/platform/profile_utils/cpu_utils.cc:112] CPU Frequency: 2400000000 Hz\n"
     ]
    },
    {
     "name": "stdout",
     "output_type": "stream",
     "text": [
      "Epoch 1/5\n",
      "66/66 [==============================] - 92s 1s/step - loss: 0.2025 - precision: 0.9370 - recall: 0.9370 - val_loss: 0.6234 - val_precision: 0.9826 - val_recall: 0.9826\n",
      "Epoch 2/5\n",
      "66/66 [==============================] - 90s 1s/step - loss: 0.1900 - precision: 0.9804 - recall: 0.9804 - val_loss: 0.6159 - val_precision: 0.9652 - val_recall: 0.9652\n",
      "Epoch 3/5\n",
      "66/66 [==============================] - 90s 1s/step - loss: 0.1913 - precision: 0.9788 - recall: 0.9788 - val_loss: 0.6045 - val_precision: 0.9913 - val_recall: 0.9913\n",
      "Epoch 4/5\n",
      "66/66 [==============================] - 90s 1s/step - loss: 0.1923 - precision: 0.9782 - recall: 0.9782 - val_loss: 0.5958 - val_precision: 0.9913 - val_recall: 0.9913\n",
      "Epoch 5/5\n",
      "66/66 [==============================] - 92s 1s/step - loss: 0.1779 - precision: 0.9849 - recall: 0.9849 - val_loss: 0.5875 - val_precision: 0.9913 - val_recall: 0.9913\n"
     ]
    },
    {
     "data": {
      "text/plain": [
       "<tensorflow.python.keras.callbacks.History at 0x7fc49c657250>"
      ]
     },
     "execution_count": 11,
     "metadata": {},
     "output_type": "execute_result"
    }
   ],
   "source": [
    "model.fit(x=train, validation_data=val, epochs=5, shuffle=True, class_weight={0:0.2, 1:0.8})"
   ]
  },
  {
   "cell_type": "code",
   "execution_count": 12,
   "id": "64c11658-edc5-4d9a-b528-bbd6faf0ab6c",
   "metadata": {},
   "outputs": [],
   "source": [
    "model.save(\"../models/resnet.h5\")"
   ]
  },
  {
   "cell_type": "code",
   "execution_count": 4,
   "id": "14c2ec63-9009-4b87-bfc9-38236e28c473",
   "metadata": {},
   "outputs": [
    {
     "name": "stderr",
     "output_type": "stream",
     "text": [
      "2022-01-03 23:55:34.203462: I tensorflow/compiler/jit/xla_cpu_device.cc:41] Not creating XLA devices, tf_xla_enable_xla_devices not set\n",
      "2022-01-03 23:55:34.209056: I tensorflow/stream_executor/platform/default/dso_loader.cc:49] Successfully opened dynamic library libcuda.so.1\n",
      "2022-01-03 23:55:34.243532: I tensorflow/stream_executor/cuda/cuda_gpu_executor.cc:941] successful NUMA node read from SysFS had negative value (-1), but there must be at least one NUMA node, so returning NUMA node zero\n",
      "2022-01-03 23:55:34.243755: I tensorflow/core/common_runtime/gpu/gpu_device.cc:1720] Found device 0 with properties: \n",
      "pciBusID: 0000:01:00.0 name: GeForce GTX 1650 Ti with Max-Q Design computeCapability: 7.5\n",
      "coreClock: 1.2GHz coreCount: 16 deviceMemorySize: 3.82GiB deviceMemoryBandwidth: 149.04GiB/s\n",
      "2022-01-03 23:55:34.243823: W tensorflow/stream_executor/platform/default/dso_loader.cc:60] Could not load dynamic library 'libcudart.so.11.0'; dlerror: libcudart.so.11.0: cannot open shared object file: No such file or directory; LD_LIBRARY_PATH: /home/mauriciomani/Desktop/rowing_tracker/venv/lib/python3.8/site-packages/cv2/../../lib64:\n",
      "2022-01-03 23:55:34.243881: W tensorflow/stream_executor/platform/default/dso_loader.cc:60] Could not load dynamic library 'libcublas.so.11'; dlerror: libcublas.so.11: cannot open shared object file: No such file or directory; LD_LIBRARY_PATH: /home/mauriciomani/Desktop/rowing_tracker/venv/lib/python3.8/site-packages/cv2/../../lib64:\n",
      "2022-01-03 23:55:34.243924: W tensorflow/stream_executor/platform/default/dso_loader.cc:60] Could not load dynamic library 'libcublasLt.so.11'; dlerror: libcublasLt.so.11: cannot open shared object file: No such file or directory; LD_LIBRARY_PATH: /home/mauriciomani/Desktop/rowing_tracker/venv/lib/python3.8/site-packages/cv2/../../lib64:\n",
      "2022-01-03 23:55:34.243965: W tensorflow/stream_executor/platform/default/dso_loader.cc:60] Could not load dynamic library 'libcufft.so.10'; dlerror: libcufft.so.10: cannot open shared object file: No such file or directory; LD_LIBRARY_PATH: /home/mauriciomani/Desktop/rowing_tracker/venv/lib/python3.8/site-packages/cv2/../../lib64:\n",
      "2022-01-03 23:55:34.244005: W tensorflow/stream_executor/platform/default/dso_loader.cc:60] Could not load dynamic library 'libcurand.so.10'; dlerror: libcurand.so.10: cannot open shared object file: No such file or directory; LD_LIBRARY_PATH: /home/mauriciomani/Desktop/rowing_tracker/venv/lib/python3.8/site-packages/cv2/../../lib64:\n",
      "2022-01-03 23:55:34.244045: W tensorflow/stream_executor/platform/default/dso_loader.cc:60] Could not load dynamic library 'libcusolver.so.10'; dlerror: libcusolver.so.10: cannot open shared object file: No such file or directory; LD_LIBRARY_PATH: /home/mauriciomani/Desktop/rowing_tracker/venv/lib/python3.8/site-packages/cv2/../../lib64:\n",
      "2022-01-03 23:55:34.244086: W tensorflow/stream_executor/platform/default/dso_loader.cc:60] Could not load dynamic library 'libcusparse.so.11'; dlerror: libcusparse.so.11: cannot open shared object file: No such file or directory; LD_LIBRARY_PATH: /home/mauriciomani/Desktop/rowing_tracker/venv/lib/python3.8/site-packages/cv2/../../lib64:\n",
      "2022-01-03 23:55:34.244126: W tensorflow/stream_executor/platform/default/dso_loader.cc:60] Could not load dynamic library 'libcudnn.so.8'; dlerror: libcudnn.so.8: cannot open shared object file: No such file or directory; LD_LIBRARY_PATH: /home/mauriciomani/Desktop/rowing_tracker/venv/lib/python3.8/site-packages/cv2/../../lib64:\n",
      "2022-01-03 23:55:34.244131: W tensorflow/core/common_runtime/gpu/gpu_device.cc:1757] Cannot dlopen some GPU libraries. Please make sure the missing libraries mentioned above are installed properly if you would like to use GPU. Follow the guide at https://www.tensorflow.org/install/gpu for how to download and setup the required libraries for your platform.\n",
      "Skipping registering GPU devices...\n",
      "2022-01-03 23:55:34.244495: I tensorflow/core/platform/cpu_feature_guard.cc:142] This TensorFlow binary is optimized with oneAPI Deep Neural Network Library (oneDNN) to use the following CPU instructions in performance-critical operations:  AVX2 FMA\n",
      "To enable them in other operations, rebuild TensorFlow with the appropriate compiler flags.\n",
      "2022-01-03 23:55:34.244688: I tensorflow/compiler/jit/xla_gpu_device.cc:99] Not creating XLA devices, tf_xla_enable_xla_devices not set\n",
      "2022-01-03 23:55:34.244699: I tensorflow/core/common_runtime/gpu/gpu_device.cc:1261] Device interconnect StreamExecutor with strength 1 edge matrix:\n",
      "2022-01-03 23:55:34.244702: I tensorflow/core/common_runtime/gpu/gpu_device.cc:1267]      \n"
     ]
    }
   ],
   "source": [
    "from tensorflow.keras.models import load_model\n",
    "\n",
    "model = load_model(\"../models/resnet.h5\")"
   ]
  }
 ],
 "metadata": {
  "kernelspec": {
   "display_name": "Python 3 (ipykernel)",
   "language": "python",
   "name": "python3"
  },
  "language_info": {
   "codemirror_mode": {
    "name": "ipython",
    "version": 3
   },
   "file_extension": ".py",
   "mimetype": "text/x-python",
   "name": "python",
   "nbconvert_exporter": "python",
   "pygments_lexer": "ipython3",
   "version": "3.8.3"
  }
 },
 "nbformat": 4,
 "nbformat_minor": 5
}
